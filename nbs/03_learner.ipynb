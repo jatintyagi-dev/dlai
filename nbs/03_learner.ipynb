{
 "cells": [
  {
   "cell_type": "code",
   "execution_count": null,
   "id": "11865cd6",
   "metadata": {},
   "outputs": [],
   "source": [
    "#| default_exp learner"
   ]
  },
  {
   "cell_type": "markdown",
   "id": "3aaae8ff",
   "metadata": {},
   "source": [
    "## Imports"
   ]
  },
  {
   "cell_type": "code",
   "execution_count": null,
   "id": "b44e7f62",
   "metadata": {},
   "outputs": [],
   "source": [
    "#|export\n",
    "import math,torch,matplotlib.pyplot as plt\n",
    "import fastcore.all as fc\n",
    "from collections.abc import Mapping\n",
    "from operator import attrgetter\n",
    "from functools import partial\n",
    "from copy import copy\n",
    "\n",
    "from torch import optim\n",
    "import torch.nn.functional as F\n",
    "from torch.utils.data import default_collate\n",
    "\n",
    "# from miniai.conv import *\n",
    "\n",
    "from fastprogress import progress_bar,master_bar\n",
    "from operator import itemgetter"
   ]
  },
  {
   "cell_type": "code",
   "execution_count": null,
   "id": "89a49a45",
   "metadata": {},
   "outputs": [
    {
     "name": "stderr",
     "output_type": "stream",
     "text": [
      "/Users/jatintyagi/Library/jupyterlab-desktop/jlab_server/envs/fastai/lib/python3.10/site-packages/torchvision/io/image.py:13: UserWarning: Failed to load image Python extension: dlopen(/Users/jatintyagi/Library/jupyterlab-desktop/jlab_server/envs/fastai/lib/python3.10/site-packages/torchvision/image.so, 0x0006): Symbol not found: __ZN2at4_ops19empty_memory_format4callEN3c108ArrayRefIxEENS2_8optionalINS2_10ScalarTypeEEENS5_INS2_6LayoutEEENS5_INS2_6DeviceEEENS5_IbEENS5_INS2_12MemoryFormatEEE\n",
      "  Referenced from: <DDABACEB-F2EA-368C-80DD-40745DFB96F8> /Users/jatintyagi/Library/jupyterlab-desktop/jlab_server/envs/fastai/lib/python3.10/site-packages/torchvision/image.so\n",
      "  Expected in:     <D42F2ED5-2D8D-3EDC-BA19-1EE4A770BA46> /Users/jatintyagi/Library/jupyterlab-desktop/jlab_server/envs/fastai/lib/python3.10/site-packages/torch/lib/libtorch_cpu.dylib\n",
      "  warn(f\"Failed to load image Python extension: {e}\")\n"
     ]
    }
   ],
   "source": [
    "import matplotlib as mpl\n",
    "import torchvision.transforms.functional as TF\n",
    "from contextlib import contextmanager\n",
    "from torch import nn,tensor\n",
    "from datasets import load_dataset,load_dataset_builder\n",
    "import logging "
   ]
  },
  {
   "cell_type": "code",
   "execution_count": null,
   "id": "554c828b",
   "metadata": {},
   "outputs": [],
   "source": [
    "from torch.utils.data.dataloader import DataLoader, Dataset"
   ]
  },
  {
   "cell_type": "code",
   "execution_count": null,
   "id": "af022f63",
   "metadata": {},
   "outputs": [],
   "source": [
    "logging.disable(logging.WARNING)"
   ]
  },
  {
   "cell_type": "code",
   "execution_count": null,
   "id": "d3aadf6b",
   "metadata": {},
   "outputs": [],
   "source": [
    "torch.set_printoptions(precision=2, linewidth=140, sci_mode=False)\n",
    "torch.manual_seed(1)\n",
    "mpl.rcParams['image.cmap'] = 'gray'"
   ]
  },
  {
   "cell_type": "markdown",
   "id": "ff77ff34",
   "metadata": {},
   "source": [
    "## Dataset"
   ]
  },
  {
   "cell_type": "code",
   "execution_count": null,
   "id": "b79cb3b6",
   "metadata": {},
   "outputs": [],
   "source": []
  },
  {
   "cell_type": "code",
   "execution_count": null,
   "id": "a523a409",
   "metadata": {},
   "outputs": [],
   "source": [
    "#| export\n",
    "class DataLoaders:\n",
    "    def __init__(self, *dls): self.train,self.valid = dls[:2]\n",
    "\n",
    "    @classmethod\n",
    "    def from_dd(cls, dd, batch_size, as_tuple=True, **kwargs):\n",
    "        f = collate_dict(dd['train'])\n",
    "        return cls(*get_dls(*dd.values(), bs=batch_size, collate_fn=f, **kwargs))"
   ]
  },
  {
   "cell_type": "code",
   "execution_count": null,
   "id": "7a084a5a",
   "metadata": {},
   "outputs": [
    {
     "data": {
      "application/vnd.jupyter.widget-view+json": {
       "model_id": "5a250925bdc54fea93222aa9efae64b4",
       "version_major": 2,
       "version_minor": 0
      },
      "text/plain": [
       "  0%|          | 0/2 [00:00<?, ?it/s]"
      ]
     },
     "metadata": {},
     "output_type": "display_data"
    }
   ],
   "source": [
    "x,y = 'image','label'\n",
    "name = \"fashion_mnist\"\n",
    "dsd = load_dataset(name)"
   ]
  },
  {
   "cell_type": "code",
   "execution_count": null,
   "id": "547dec92",
   "metadata": {},
   "outputs": [
    {
     "data": {
      "image/png": "[encoded data removed]",
      "text/plain": [
       "<PIL.PngImagePlugin.PngImageFile image mode=L size=28x28>"
      ]
     },
     "execution_count": null,
     "metadata": {},
     "output_type": "execute_result"
    }
   ],
   "source": [
    "dsd[\"train\"][x][0]"
   ]
  },
  {
   "cell_type": "code",
   "execution_count": null,
   "id": "e5768972",
   "metadata": {},
   "outputs": [],
   "source": [
    "#| export \n",
    "def inplace(f):\n",
    "    def _f(b):\n",
    "        f(b)\n",
    "        return b\n",
    "    return _f"
   ]
  },
  {
   "cell_type": "code",
   "execution_count": null,
   "id": "cd272500",
   "metadata": {},
   "outputs": [],
   "source": [
    "#| export \n",
    "def collate_dict(ds):\n",
    "    get = itemgetter(*ds.features)\n",
    "    def _f(b): return get(default_collate(b))\n",
    "    return _f"
   ]
  },
  {
   "cell_type": "code",
   "execution_count": null,
   "id": "eb132541",
   "metadata": {},
   "outputs": [],
   "source": [
    "@inplace\n",
    "def transformi(b): b[x] = [torch.flatten(TF.to_tensor(o)) for o in b[x]]"
   ]
  },
  {
   "cell_type": "code",
   "execution_count": null,
   "id": "7a28c4d9",
   "metadata": {},
   "outputs": [],
   "source": [
    "bs = 1024\n",
    "tds = dsd.with_transform(transformi)"
   ]
  },
  {
   "cell_type": "code",
   "execution_count": null,
   "id": "601cd603",
   "metadata": {},
   "outputs": [],
   "source": [
    "def get_dls(train_ds, valid_ds, bs, **kwargs):\n",
    "    return (DataLoader(train_ds, batch_size=bs, shuffle=True, **kwargs),\n",
    "            DataLoader(valid_ds, batch_size=bs*2, **kwargs))"
   ]
  },
  {
   "cell_type": "code",
   "execution_count": null,
   "id": "397cb160",
   "metadata": {},
   "outputs": [],
   "source": [
    "dls = DataLoaders.from_dd(tds, bs, num_workers=4)\n",
    "dt = dls.train\n"
   ]
  },
  {
   "cell_type": "code",
   "execution_count": null,
   "id": "2dba2e8a",
   "metadata": {},
   "outputs": [
    {
     "data": {
      "text/plain": [
       "<function __main__.collate_dict.<locals>._f(b)>"
      ]
     },
     "execution_count": null,
     "metadata": {},
     "output_type": "execute_result"
    }
   ],
   "source": [
    "dt.collate_fn"
   ]
  },
  {
   "cell_type": "code",
   "execution_count": null,
   "id": "d9402eb7",
   "metadata": {},
   "outputs": [
    {
     "data": {
      "text/plain": [
       "(torch.Size([1024, 784]), tensor([5, 4, 9, 4, 3, 0, 6, 5, 7, 6]))"
      ]
     },
     "execution_count": null,
     "metadata": {},
     "output_type": "execute_result"
    }
   ],
   "source": [
    "xb,yb = next(iter(dt))\n",
    "xb.shape,yb[:10]"
   ]
  },
  {
   "cell_type": "markdown",
   "id": "6dbd15ac",
   "metadata": {},
   "source": [
    "## Callback "
   ]
  },
  {
   "cell_type": "code",
   "execution_count": null,
   "id": "431eccb5",
   "metadata": {},
   "outputs": [],
   "source": [
    "#| export\n",
    "class cb:\n",
    "    order = 0\n",
    "        "
   ]
  },
  {
   "cell_type": "code",
   "execution_count": null,
   "id": "cc70a296",
   "metadata": {},
   "outputs": [],
   "source": [
    "class testcb(cb):\n",
    "    def __init__(self):fc.store_attr()\n",
    "        \n",
    "    def before_fit(self, learn):\n",
    "        print(f\"starting fit function\")\n",
    "        \n",
    "    def after_fit(self, learn):\n",
    "        print(f\"ending fit function with loss : {learn.loss}\")"
   ]
  },
  {
   "cell_type": "code",
   "execution_count": null,
   "id": "7e6933f3",
   "metadata": {},
   "outputs": [],
   "source": [
    "# class testcb1(cb):\n",
    "#     def __init__(self):\n",
    "#         fc.store_attr()\n",
    "#         self.order = -1\n",
    "        \n",
    "#     def before_fit(self, learn):\n",
    "#         print(f\"starting fit function\")\n",
    "        \n",
    "#     def after_fit(self, learn):\n",
    "#         print(f\"ending fit function with loss : {learn.loss}\")"
   ]
  },
  {
   "cell_type": "code",
   "execution_count": null,
   "id": "ca380b59",
   "metadata": {},
   "outputs": [],
   "source": [
    "cbs = [ testcb()]"
   ]
  },
  {
   "cell_type": "code",
   "execution_count": null,
   "id": "68c77915",
   "metadata": {},
   "outputs": [
    {
     "data": {
      "text/plain": [
       "[<__main__.testcb>]"
      ]
     },
     "execution_count": null,
     "metadata": {},
     "output_type": "execute_result"
    }
   ],
   "source": [
    "sorted(cbs, key= attrgetter(\"order\"))"
   ]
  },
  {
   "cell_type": "code",
   "execution_count": null,
   "id": "2574cd04",
   "metadata": {},
   "outputs": [],
   "source": [
    "if getattr(testcb(), \"before_fit\"): pass"
   ]
  },
  {
   "cell_type": "code",
   "execution_count": null,
   "id": "644bf608",
   "metadata": {},
   "outputs": [],
   "source": [
    "#| export\n",
    "\n",
    "def rcb(cbs, method_name, learn):\n",
    "    for cb in sorted(cbs, key= attrgetter(\"order\")):\n",
    "        method =  getattr(cb, method_name, None )\n",
    "        if method : return method(learn)\n",
    "        "
   ]
  },
  {
   "cell_type": "code",
   "execution_count": null,
   "id": "ba04c62e",
   "metadata": {},
   "outputs": [],
   "source": []
  },
  {
   "cell_type": "markdown",
   "id": "dd8f178e",
   "metadata": {},
   "source": [
    "## Learner Framework Basic"
   ]
  },
  {
   "cell_type": "code",
   "execution_count": null,
   "id": "bc33a168",
   "metadata": {},
   "outputs": [],
   "source": [
    "#| export \n",
    "def_device = 'mps' if torch.backends.mps.is_available() else 'cuda' if torch.cuda.is_available() else 'cpu'\n",
    "\n",
    "def to_device(x, device=def_device):\n",
    "    if isinstance(x, torch.Tensor): return x.to(device)\n",
    "    if isinstance(x, Mapping): return {k:v.to(device) for k,v in x.items()}\n",
    "    return type(x)(to_device(o, device) for o in x)"
   ]
  },
  {
   "cell_type": "code",
   "execution_count": null,
   "id": "f290f5ec",
   "metadata": {},
   "outputs": [],
   "source": []
  },
  {
   "cell_type": "code",
   "execution_count": null,
   "id": "7bea407a",
   "metadata": {},
   "outputs": [],
   "source": [
    "\n",
    "class learner:\n",
    "    \n",
    "    def __init__(self, model, dls,loss_func, lr,opt_func=optim.SGD):fc.store_attr()\n",
    "    \n",
    "    def one_batch(self):\n",
    "        x,y = to_device(self.b)\n",
    "        self.preds = self.model(x)\n",
    "        self.loss = self.loss_func(self.preds, y)\n",
    "        if self.model.training: \n",
    "            self.loss.backward()\n",
    "            self.opt.step()\n",
    "            self.opt.zero_grad()\n",
    "#         else :\n",
    "#             with torch.no_grad():\n",
    "#                 self.preds = self.model(b[0])\n",
    "            \n",
    "        \n",
    "    \n",
    "    def one_epoch(self, train):\n",
    "        self.model.training = train\n",
    "        dl = self.dls.train if train else self.dls.valid\n",
    "        for self.b in dl:self.one_batch()\n",
    "        \n",
    "    def fit(self, epochs):\n",
    "        self.model = self.model.to(def_device)\n",
    "        self.opt = self.opt_func(self.model.parameters(), self.lr)\n",
    "        for e in range(epochs):\n",
    "            self.one_epoch(True)\n",
    "            with torch.no_grad(): self.one_epoch(False)\n",
    "                \n",
    "            print(f\"epoch {e} loss :{self.loss}\")\n",
    "        \n",
    "    "
   ]
  },
  {
   "cell_type": "code",
   "execution_count": null,
   "id": "9ea04aaa",
   "metadata": {},
   "outputs": [],
   "source": [
    "m,nh = 28*28,50\n",
    "model = nn.Sequential(nn.Linear(m,nh), nn.ReLU(), nn.Linear(nh,10))"
   ]
  },
  {
   "cell_type": "code",
   "execution_count": null,
   "id": "46d38a81",
   "metadata": {},
   "outputs": [
    {
     "name": "stdout",
     "output_type": "stream",
     "text": [
      "epoch 0 loss :0.7701894640922546\n",
      "epoch 1 loss :0.6205670237541199\n",
      "epoch 2 loss :0.6714107394218445\n"
     ]
    }
   ],
   "source": [
    "learn = learner(model, dls, F.cross_entropy, lr=0.2)\n",
    "learn.fit(3)"
   ]
  },
  {
   "cell_type": "markdown",
   "id": "8e00cb44",
   "metadata": {},
   "source": [
    "## Flexible Learner"
   ]
  },
  {
   "cell_type": "code",
   "execution_count": null,
   "id": "2047ceff",
   "metadata": {},
   "outputs": [
    {
     "ename": "SyntaxError",
     "evalue": "invalid syntax (1512228600.py, line 1)",
     "output_type": "error",
     "traceback": [
      "\u001b[0;36m  File \u001b[0;32m\"/var/folders/sq/yssdm5c558z844hmvklgtkdw0000gn/T/ipykernel_89061/1512228600.py\"\u001b[0;36m, line \u001b[0;32m1\u001b[0m\n\u001b[0;31m    from functools import\u001b[0m\n\u001b[0m                          ^\u001b[0m\n\u001b[0;31mSyntaxError\u001b[0m\u001b[0;31m:\u001b[0m invalid syntax\n"
     ]
    }
   ],
   "source": [
    "from functools import "
   ]
  },
  {
   "cell_type": "code",
   "execution_count": null,
   "id": "6a10f965",
   "metadata": {},
   "outputs": [],
   "source": [
    "class ctx_mng():\n",
    "    def __init__(self, name):self.name = name\n",
    "        \n",
    "    def __enter__(self):print(f\"Executing code before {self.name} function\")\n",
    "        \n",
    "    def __exit__(self, *args,**kwargs):\n",
    "        print(f\"Executing code after{self.name} function\")\n",
    "   \n",
    "    \n",
    "\n",
    "    "
   ]
  },
  {
   "cell_type": "code",
   "execution_count": null,
   "id": "79e75c92",
   "metadata": {},
   "outputs": [],
   "source": [
    "with ctx_mng(\"before\") as ctx:\n",
    "    print(\"function\")"
   ]
  },
  {
   "cell_type": "code",
   "execution_count": null,
   "id": "8464a54f",
   "metadata": {},
   "outputs": [],
   "source": [
    "class learner:\n",
    "    \n",
    "    def __init__(self, model, dls,loss_func, lr,cbs ,opt_func=optim.SGD):fc.store_attr()\n",
    "    \n",
    "    def one_batch(self):\n",
    "        x,y = to_device(self.b)\n",
    "        with ctx_mng('batch'):\n",
    "            self.preds = self.model(x)\n",
    "            self.loss = self.loss_func(self.preds, y)\n",
    "            if self.model.training: \n",
    "                self.loss.backward()\n",
    "                self.opt.step()\n",
    "                self.opt.zero_grad()\n",
    "#         else :\n",
    "#             with torch.no_grad():\n",
    "#                 self.preds = self.model(b[0])\n",
    "            \n",
    "        \n",
    "    \n",
    "    def one_epoch(self, train):\n",
    "        self.model.training = train\n",
    "        dl = self.dls.train if train else self.dls.valid\n",
    "        with ctx_mng('epoch'):\n",
    "            for self.b in dl:self.one_batch()\n",
    "        \n",
    "    def fit(self, epochs):\n",
    "        self.model = self.model.to(def_device)\n",
    "        self.opt = self.opt_func(self.model.parameters(), self.lr)\n",
    "        with ctx_mng('fit'):\n",
    "            for e in range(epochs):\n",
    "                self.one_epoch(True)\n",
    "                with torch.no_grad(): self.one_epoch(False)\n",
    "\n",
    "                print(f\"epoch {e} loss :{self.loss}\")"
   ]
  },
  {
   "cell_type": "code",
   "execution_count": null,
   "id": "320015c4",
   "metadata": {},
   "outputs": [],
   "source": [
    "m,nh = 28*28,50\n",
    "model = nn.Sequential(nn.Linear(m,nh), nn.ReLU(), nn.Linear(nh,10))"
   ]
  },
  {
   "cell_type": "code",
   "execution_count": null,
   "id": "a2f23fe0",
   "metadata": {},
   "outputs": [],
   "source": [
    "learn = learner(model, dls, F.cross_entropy, lr=0.2, cbs = [])\n",
    "learn.fit(1)"
   ]
  },
  {
   "cell_type": "markdown",
   "id": "14bfb4a3",
   "metadata": {},
   "source": [
    "## More Flexible learner "
   ]
  },
  {
   "cell_type": "code",
   "execution_count": null,
   "id": "57fc7b41",
   "metadata": {},
   "outputs": [],
   "source": [
    "#| export\n",
    "\n",
    "class CancelFitException:pass\n",
    "class CancelEpochException:pass\n",
    "class CancelBatchException:pass"
   ]
  },
  {
   "cell_type": "code",
   "execution_count": null,
   "id": "017f38fe",
   "metadata": {},
   "outputs": [],
   "source": [
    "\"fit\".title()"
   ]
  },
  {
   "cell_type": "code",
   "execution_count": null,
   "id": "ca5d6eed",
   "metadata": {},
   "outputs": [],
   "source": [
    "#| export\n",
    "class cb_dec:\n",
    "    def __init__(self, name):\n",
    "        fc.store_attr()\n",
    "        \n",
    "    def __call__(self, f):\n",
    "        def _f(o,*args,**kwargs):\n",
    "            try:\n",
    "                o.callback(f\"before_{self.name}\")\n",
    "                f(o,*args, **kwargs)\n",
    "                o.callback(f\"after_{self.name}\")\n",
    "            except: globals()[f\"Cancel{self.name.title()}Exception\"]()\n",
    "        return _f \n",
    "            \n",
    "            "
   ]
  },
  {
   "cell_type": "code",
   "execution_count": null,
   "id": "59afc0ec",
   "metadata": {},
   "outputs": [],
   "source": [
    "#| export \n",
    "class learner:\n",
    "    \n",
    "    def __init__(self, model, dls,loss_func, lr,cbs=[] ,opt_func=optim.SGD):fc.store_attr()\n",
    "    \n",
    "    @cb_dec(\"batch\")\n",
    "    def one_batch(self):\n",
    "        x,y = to_device(self.b)\n",
    "        \n",
    "        self.preds = self.model(x)\n",
    "        self.loss = self.loss_func(self.preds, y)\n",
    "        if self.model.training: \n",
    "            self.loss.backward()\n",
    "            self.opt.step()\n",
    "            self.opt.zero_grad()\n",
    "#         else :\n",
    "#             with torch.no_grad():\n",
    "#                 self.preds = self.model(b[0])\n",
    "            \n",
    "        \n",
    "    @cb_dec(\"epoch\")\n",
    "    def one_epoch(self, train):\n",
    "        self.model.training = train\n",
    "        dl = self.dls.train if train else self.dls.valid\n",
    "        \n",
    "        for self.b in dl:self.one_batch()\n",
    "    \n",
    "    @cb_dec(\"fit\")\n",
    "    def fit(self, epochs):\n",
    "        self.model = self.model.to(def_device)\n",
    "        self.opt = self.opt_func(self.model.parameters(), self.lr)\n",
    "        \n",
    "        for e in range(epochs):\n",
    "            self.one_epoch(True)\n",
    "            with torch.no_grad(): self.one_epoch(False)\n",
    "\n",
    "            print(f\"epoch {e} loss :{self.loss}\")\n",
    "                \n",
    "    def callback(self, nm): rcb(self.cbs, nm, self)\n",
    "        "
   ]
  },
  {
   "cell_type": "code",
   "execution_count": null,
   "id": "b77a0dfa",
   "metadata": {},
   "outputs": [],
   "source": [
    "# def rcb(cbs, method_name, learn):\n",
    "#     for cb in sorted(cbs, key= attrgetter(\"order\")):\n",
    "#         try: return getattr(cb, method_name)(learn)\n",
    "#         except Exception as e: print(e)"
   ]
  },
  {
   "cell_type": "code",
   "execution_count": null,
   "id": "8ce1ff09",
   "metadata": {},
   "outputs": [],
   "source": [
    "m,nh = 28*28,50\n",
    "model = nn.Sequential(nn.Linear(m,nh), nn.ReLU(), nn.Linear(nh,10))"
   ]
  },
  {
   "cell_type": "code",
   "execution_count": null,
   "id": "5fb5cc24",
   "metadata": {},
   "outputs": [],
   "source": [
    "learn = learner(model, dls, F.cross_entropy,lr=0.2,cbs = [testcb()])\n",
    "learn.fit(1)"
   ]
  },
  {
   "cell_type": "markdown",
   "id": "22e325c4",
   "metadata": {},
   "source": [
    "## Trainer Learner"
   ]
  },
  {
   "cell_type": "code",
   "execution_count": null,
   "id": "e071db5e",
   "metadata": {},
   "outputs": [],
   "source": [
    "#|export\n",
    "class TrainLearner(learner):\n",
    "    def predict(self): self.preds = self.model(self.batch[0])\n",
    "    def get_loss(self): self.loss = self.loss_func(self.preds, self.batch[1])\n",
    "    def backward(self): self.loss.backward()\n",
    "    def step(self): self.opt.step()\n",
    "    def zero_grad(self): self.opt.zero_grad()"
   ]
  },
  {
   "cell_type": "code",
   "execution_count": null,
   "id": "7b081d87",
   "metadata": {},
   "outputs": [],
   "source": [
    "m,nh = 28*28,50\n",
    "model = nn.Sequential(nn.Linear(m,nh), nn.ReLU(), nn.Linear(nh,10))\n",
    "\n",
    "learn = TrainLearner(model, dls, F.cross_entropy,lr=0.2,cbs = [testcb()])\n",
    "learn.fit(1)"
   ]
  },
  {
   "cell_type": "markdown",
   "id": "c8c3e613",
   "metadata": {},
   "source": [
    "## Momentum Learner\n"
   ]
  },
  {
   "cell_type": "code",
   "execution_count": null,
   "id": "a583aec7",
   "metadata": {},
   "outputs": [],
   "source": [
    "#| export \n",
    "class momentumLearner(learner):\n",
    "    def __init__(self, model, dls, loss_func, lr=None, cbs=None, opt_func=optim.SGD, mom=0.85):\n",
    "        self.mom = mom\n",
    "        super().__init__(model, dls, loss_func, lr, cbs, opt_func)\n",
    "        \n",
    "    def step(self): self.opt.step()\n",
    "        \n",
    "    def zero_grad(self): \n",
    "        with torch.no_grad():\n",
    "            for p in self.model.parameters(): p.grad *= self.mom"
   ]
  },
  {
   "cell_type": "code",
   "execution_count": null,
   "id": "a94d7207",
   "metadata": {},
   "outputs": [],
   "source": [
    "m,nh = 28*28,50\n",
    "model = nn.Sequential(nn.Linear(m,nh), nn.ReLU(), nn.Linear(nh,10))\n",
    "\n",
    "learn = TrainLearner(model, dls, F.cross_entropy,lr=0.2,cbs = [testcb()])\n",
    "learn.fit(1)"
   ]
  },
  {
   "cell_type": "markdown",
   "id": "7cbc4daf",
   "metadata": {},
   "source": [
    "## Metrics Callback"
   ]
  },
  {
   "cell_type": "code",
   "execution_count": null,
   "id": "67419ad6",
   "metadata": {},
   "outputs": [],
   "source": [
    "from torcheval.metrics import MulticlassAccuracy"
   ]
  },
  {
   "cell_type": "code",
   "execution_count": null,
   "id": "8e10c00f",
   "metadata": {},
   "outputs": [],
   "source": [
    "ms = [MulticlassAccuracy()]"
   ]
  },
  {
   "cell_type": "code",
   "execution_count": null,
   "id": "68785e5a",
   "metadata": {},
   "outputs": [],
   "source": []
  },
  {
   "cell_type": "code",
   "execution_count": null,
   "id": "9128c5fa",
   "metadata": {},
   "outputs": [],
   "source": [
    "metricss={}\n",
    "metricss[type(ms[0]).__name__] = ms[0]"
   ]
  },
  {
   "cell_type": "code",
   "execution_count": null,
   "id": "3d432790",
   "metadata": {},
   "outputs": [
    {
     "data": {
      "text/plain": [
       "{'MulticlassAccuracy': <torcheval.metrics.classification.accuracy.MulticlassAccuracy>}"
      ]
     },
     "execution_count": null,
     "metadata": {},
     "output_type": "execute_result"
    }
   ],
   "source": [
    "metricss"
   ]
  },
  {
   "cell_type": "markdown",
   "id": "c3c60404",
   "metadata": {},
   "source": [
    "## Export "
   ]
  },
  {
   "cell_type": "code",
   "execution_count": null,
   "id": "2e648632",
   "metadata": {},
   "outputs": [],
   "source": [
    "#| hide \n",
    "import nbdev; nbdev.nbdev_export()"
   ]
  },
  {
   "cell_type": "code",
   "execution_count": null,
   "id": "83e4dcec",
   "metadata": {},
   "outputs": [],
   "source": []
  },
  {
   "cell_type": "code",
   "execution_count": null,
   "id": "2c2c3c3a-0cac-4ca0-b244-f2d2b9361b2a",
   "metadata": {},
   "outputs": [],
   "source": []
  }
 ],
 "metadata": {
  "kernelspec": {
   "display_name": "Python 3 (ipykernel)",
   "language": "python",
   "name": "python3"
  }
 },
 "nbformat": 4,
 "nbformat_minor": 5
}
