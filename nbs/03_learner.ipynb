{
 "cells": [
  {
   "cell_type": "code",
   "execution_count": 221,
   "id": "11865cd6",
   "metadata": {
    "ExecuteTime": {
     "end_time": "2023-05-07T17:39:35.732384Z",
     "start_time": "2023-05-07T17:39:35.714604Z"
    }
   },
   "outputs": [],
   "source": [
    "#| default_exp learner"
   ]
  },
  {
   "cell_type": "markdown",
   "id": "3aaae8ff",
   "metadata": {},
   "source": [
    "## Imports"
   ]
  },
  {
   "cell_type": "code",
   "execution_count": 222,
   "id": "b44e7f62",
   "metadata": {
    "ExecuteTime": {
     "end_time": "2023-05-07T17:39:36.539798Z",
     "start_time": "2023-05-07T17:39:36.526562Z"
    }
   },
   "outputs": [],
   "source": [
    "#|export\n",
    "import math,torch,matplotlib.pyplot as plt\n",
    "import fastcore.all as fc\n",
    "from collections.abc import Mapping\n",
    "from operator import attrgetter\n",
    "from functools import partial\n",
    "from copy import copy\n",
    "\n",
    "from torch import optim\n",
    "import torch.nn.functional as F\n",
    "from torch.utils.data import default_collate\n",
    "\n",
    "# from miniai.conv import *\n",
    "\n",
    "from fastprogress import progress_bar,master_bar\n",
    "from operator import itemgetter"
   ]
  },
  {
   "cell_type": "code",
   "execution_count": 223,
   "id": "89a49a45",
   "metadata": {
    "ExecuteTime": {
     "end_time": "2023-05-07T17:39:36.969497Z",
     "start_time": "2023-05-07T17:39:36.962592Z"
    }
   },
   "outputs": [],
   "source": [
    "import matplotlib as mpl\n",
    "import torchvision.transforms.functional as TF\n",
    "from contextlib import contextmanager\n",
    "from torch import nn,tensor\n",
    "from datasets import load_dataset,load_dataset_builder\n",
    "import logging "
   ]
  },
  {
   "cell_type": "code",
   "execution_count": 224,
   "id": "554c828b",
   "metadata": {
    "ExecuteTime": {
     "end_time": "2023-05-07T17:39:37.420622Z",
     "start_time": "2023-05-07T17:39:37.416202Z"
    }
   },
   "outputs": [],
   "source": [
    "from torch.utils.data.dataloader import DataLoader, Dataset"
   ]
  },
  {
   "cell_type": "code",
   "execution_count": 225,
   "id": "af022f63",
   "metadata": {
    "ExecuteTime": {
     "end_time": "2023-05-07T17:39:37.818416Z",
     "start_time": "2023-05-07T17:39:37.801011Z"
    }
   },
   "outputs": [],
   "source": [
    "logging.disable(logging.WARNING)"
   ]
  },
  {
   "cell_type": "code",
   "execution_count": 226,
   "id": "d3aadf6b",
   "metadata": {
    "ExecuteTime": {
     "end_time": "2023-05-07T17:39:38.191703Z",
     "start_time": "2023-05-07T17:39:38.164794Z"
    }
   },
   "outputs": [],
   "source": [
    "torch.set_printoptions(precision=2, linewidth=140, sci_mode=False)\n",
    "torch.manual_seed(1)\n",
    "mpl.rcParams['image.cmap'] = 'gray'"
   ]
  },
  {
   "cell_type": "markdown",
   "id": "ff77ff34",
   "metadata": {},
   "source": [
    "## Dataset"
   ]
  },
  {
   "cell_type": "code",
   "execution_count": null,
   "id": "b79cb3b6",
   "metadata": {},
   "outputs": [],
   "source": []
  },
  {
   "cell_type": "code",
   "execution_count": 227,
   "id": "a523a409",
   "metadata": {
    "ExecuteTime": {
     "end_time": "2023-05-07T17:39:39.251448Z",
     "start_time": "2023-05-07T17:39:39.242060Z"
    }
   },
   "outputs": [],
   "source": [
    "#| export\n",
    "class DataLoaders:\n",
    "    def __init__(self, *dls): self.train,self.valid = dls[:2]\n",
    "\n",
    "    @classmethod\n",
    "    def from_dd(cls, dd, batch_size, as_tuple=True, **kwargs):\n",
    "        f = collate_dict(dd['train'])\n",
    "        return cls(*get_dls(*dd.values(), bs=batch_size, collate_fn=f, **kwargs))"
   ]
  },
  {
   "cell_type": "code",
   "execution_count": 228,
   "id": "7a084a5a",
   "metadata": {
    "ExecuteTime": {
     "end_time": "2023-05-07T17:39:42.554874Z",
     "start_time": "2023-05-07T17:39:39.679981Z"
    }
   },
   "outputs": [
    {
     "data": {
      "application/vnd.jupyter.widget-view+json": {
       "model_id": "e3793bff085a4813a96cc6ce75a775e3",
       "version_major": 2,
       "version_minor": 0
      },
      "text/plain": [
       "  0%|          | 0/2 [00:00<?, ?it/s]"
      ]
     },
     "metadata": {},
     "output_type": "display_data"
    }
   ],
   "source": [
    "x,y = 'image','label'\n",
    "name = \"fashion_mnist\"\n",
    "dsd = load_dataset(name)"
   ]
  },
  {
   "cell_type": "code",
   "execution_count": null,
   "id": "547dec92",
   "metadata": {
    "ExecuteTime": {
     "end_time": "2023-05-07T17:39:42.592241Z",
     "start_time": "2023-05-07T17:39:42.592234Z"
    }
   },
   "outputs": [],
   "source": [
    "dsd[\"train\"][x][0]"
   ]
  },
  {
   "cell_type": "code",
   "execution_count": null,
   "id": "e5768972",
   "metadata": {
    "ExecuteTime": {
     "end_time": "2023-05-07T17:39:42.596296Z",
     "start_time": "2023-05-07T17:39:42.596287Z"
    }
   },
   "outputs": [],
   "source": [
    "#| export \n",
    "def inplace(f):\n",
    "    def _f(b):\n",
    "        f(b)\n",
    "        return b\n",
    "    return _f"
   ]
  },
  {
   "cell_type": "code",
   "execution_count": 229,
   "id": "cd272500",
   "metadata": {
    "ExecuteTime": {
     "end_time": "2023-05-07T17:39:43.361513Z",
     "start_time": "2023-05-07T17:39:43.356770Z"
    }
   },
   "outputs": [],
   "source": [
    "#| export \n",
    "def collate_dict(ds):\n",
    "    get = itemgetter(*ds.features)\n",
    "    def _f(b): return get(default_collate(b))\n",
    "    return _f"
   ]
  },
  {
   "cell_type": "code",
   "execution_count": 230,
   "id": "eb132541",
   "metadata": {
    "ExecuteTime": {
     "end_time": "2023-05-07T17:39:43.910308Z",
     "start_time": "2023-05-07T17:39:43.903805Z"
    }
   },
   "outputs": [],
   "source": [
    "@inplace\n",
    "def transformi(b): b[x] = [torch.flatten(TF.to_tensor(o)) for o in b[x]]"
   ]
  },
  {
   "cell_type": "code",
   "execution_count": 231,
   "id": "7a28c4d9",
   "metadata": {
    "ExecuteTime": {
     "end_time": "2023-05-07T17:39:44.340879Z",
     "start_time": "2023-05-07T17:39:44.314624Z"
    }
   },
   "outputs": [],
   "source": [
    "bs = 1024\n",
    "tds = dsd.with_transform(transformi)"
   ]
  },
  {
   "cell_type": "code",
   "execution_count": 232,
   "id": "601cd603",
   "metadata": {
    "ExecuteTime": {
     "end_time": "2023-05-07T17:39:44.689253Z",
     "start_time": "2023-05-07T17:39:44.683632Z"
    }
   },
   "outputs": [],
   "source": [
    "def get_dls(train_ds, valid_ds, bs, **kwargs):\n",
    "    return (DataLoader(train_ds, batch_size=bs, shuffle=True, **kwargs),\n",
    "            DataLoader(valid_ds, batch_size=bs*2, **kwargs))"
   ]
  },
  {
   "cell_type": "code",
   "execution_count": 233,
   "id": "397cb160",
   "metadata": {
    "ExecuteTime": {
     "end_time": "2023-05-07T17:39:45.045967Z",
     "start_time": "2023-05-07T17:39:45.038391Z"
    }
   },
   "outputs": [],
   "source": [
    "dls = DataLoaders.from_dd(tds, bs, num_workers=4)\n",
    "dt = dls.train\n"
   ]
  },
  {
   "cell_type": "code",
   "execution_count": 234,
   "id": "2dba2e8a",
   "metadata": {
    "ExecuteTime": {
     "end_time": "2023-05-07T17:39:45.490859Z",
     "start_time": "2023-05-07T17:39:45.483991Z"
    }
   },
   "outputs": [
    {
     "data": {
      "text/plain": [
       "<function __main__.collate_dict.<locals>._f(b)>"
      ]
     },
     "execution_count": 234,
     "metadata": {},
     "output_type": "execute_result"
    }
   ],
   "source": [
    "dt.collate_fn"
   ]
  },
  {
   "cell_type": "code",
   "execution_count": 235,
   "id": "d9402eb7",
   "metadata": {
    "ExecuteTime": {
     "end_time": "2023-05-07T17:39:46.579781Z",
     "start_time": "2023-05-07T17:39:45.981917Z"
    }
   },
   "outputs": [
    {
     "data": {
      "text/plain": [
       "(torch.Size([1024, 784]), tensor([5, 4, 9, 4, 3, 0, 6, 5, 7, 6]))"
      ]
     },
     "execution_count": 235,
     "metadata": {},
     "output_type": "execute_result"
    }
   ],
   "source": [
    "xb,yb = next(iter(dt))\n",
    "xb.shape,yb[:10]"
   ]
  },
  {
   "cell_type": "markdown",
   "id": "6dbd15ac",
   "metadata": {},
   "source": [
    "## Callback "
   ]
  },
  {
   "cell_type": "code",
   "execution_count": 236,
   "id": "431eccb5",
   "metadata": {
    "ExecuteTime": {
     "end_time": "2023-05-07T17:39:46.890356Z",
     "start_time": "2023-05-07T17:39:46.885433Z"
    }
   },
   "outputs": [],
   "source": [
    "#| export\n",
    "class cb:\n",
    "    order = 0\n",
    "        "
   ]
  },
  {
   "cell_type": "code",
   "execution_count": 237,
   "id": "cc70a296",
   "metadata": {
    "ExecuteTime": {
     "end_time": "2023-05-07T17:39:47.388615Z",
     "start_time": "2023-05-07T17:39:47.383082Z"
    }
   },
   "outputs": [],
   "source": [
    "class testcb(cb):\n",
    "    def __init__(self):fc.store_attr()\n",
    "        \n",
    "    def before_fit(self, learn):\n",
    "        print(f\"starting fit function\")\n",
    "        \n",
    "    def after_fit(self, learn):\n",
    "        print(f\"ending fit function with loss : {learn.loss}\")"
   ]
  },
  {
   "cell_type": "code",
   "execution_count": 238,
   "id": "7e6933f3",
   "metadata": {
    "ExecuteTime": {
     "end_time": "2023-05-07T17:39:47.638814Z",
     "start_time": "2023-05-07T17:39:47.633810Z"
    }
   },
   "outputs": [],
   "source": [
    "# class testcb1(cb):\n",
    "#     def __init__(self):\n",
    "#         fc.store_attr()\n",
    "#         self.order = -1\n",
    "        \n",
    "#     def before_fit(self, learn):\n",
    "#         print(f\"starting fit function\")\n",
    "        \n",
    "#     def after_fit(self, learn):\n",
    "#         print(f\"ending fit function with loss : {learn.loss}\")"
   ]
  },
  {
   "cell_type": "code",
   "execution_count": 239,
   "id": "ca380b59",
   "metadata": {
    "ExecuteTime": {
     "end_time": "2023-05-07T17:39:47.883153Z",
     "start_time": "2023-05-07T17:39:47.878301Z"
    }
   },
   "outputs": [],
   "source": [
    "cbs = [ testcb()]"
   ]
  },
  {
   "cell_type": "code",
   "execution_count": 240,
   "id": "68c77915",
   "metadata": {
    "ExecuteTime": {
     "end_time": "2023-05-07T17:39:48.156358Z",
     "start_time": "2023-05-07T17:39:48.148655Z"
    }
   },
   "outputs": [
    {
     "data": {
      "text/plain": [
       "[<__main__.testcb at 0x7ff3b9d75300>]"
      ]
     },
     "execution_count": 240,
     "metadata": {},
     "output_type": "execute_result"
    }
   ],
   "source": [
    "sorted(cbs, key= attrgetter(\"order\"))"
   ]
  },
  {
   "cell_type": "code",
   "execution_count": 241,
   "id": "2574cd04",
   "metadata": {
    "ExecuteTime": {
     "end_time": "2023-05-07T17:39:48.434964Z",
     "start_time": "2023-05-07T17:39:48.429348Z"
    }
   },
   "outputs": [],
   "source": [
    "if getattr(testcb(), \"before_fit\"): pass"
   ]
  },
  {
   "cell_type": "code",
   "execution_count": 242,
   "id": "644bf608",
   "metadata": {
    "ExecuteTime": {
     "end_time": "2023-05-07T17:39:48.789295Z",
     "start_time": "2023-05-07T17:39:48.781176Z"
    }
   },
   "outputs": [],
   "source": [
    "#| export\n",
    "\n",
    "def rcb(cbs, method_name, learn):\n",
    "    for cb in sorted(cbs, key= attrgetter(\"order\")):\n",
    "        method =  getattr(cb, method_name, None )\n",
    "        if method : return method(learn)\n",
    "        "
   ]
  },
  {
   "cell_type": "code",
   "execution_count": 243,
   "id": "db55fe31",
   "metadata": {
    "ExecuteTime": {
     "end_time": "2023-05-07T17:39:49.180030Z",
     "start_time": "2023-05-07T17:39:49.133863Z"
    }
   },
   "outputs": [
    {
     "name": "stdout",
     "output_type": "stream",
     "text": [
      "ending fit function with loss : 0.781036913394928\n"
     ]
    }
   ],
   "source": [
    "rcb(cbs, \"after_fit\",learn)"
   ]
  },
  {
   "cell_type": "code",
   "execution_count": null,
   "id": "ba04c62e",
   "metadata": {},
   "outputs": [],
   "source": []
  },
  {
   "cell_type": "markdown",
   "id": "dd8f178e",
   "metadata": {},
   "source": [
    "## Learner Framework Basic"
   ]
  },
  {
   "cell_type": "code",
   "execution_count": 244,
   "id": "bc33a168",
   "metadata": {
    "ExecuteTime": {
     "end_time": "2023-05-07T17:39:49.867759Z",
     "start_time": "2023-05-07T17:39:49.856385Z"
    }
   },
   "outputs": [],
   "source": [
    "#| export \n",
    "def_device = 'mps' if torch.backends.mps.is_available() else 'cuda' if torch.cuda.is_available() else 'cpu'\n",
    "\n",
    "def to_device(x, device=def_device):\n",
    "    if isinstance(x, torch.Tensor): return x.to(device)\n",
    "    if isinstance(x, Mapping): return {k:v.to(device) for k,v in x.items()}\n",
    "    return type(x)(to_device(o, device) for o in x)"
   ]
  },
  {
   "cell_type": "code",
   "execution_count": null,
   "id": "f290f5ec",
   "metadata": {
    "ExecuteTime": {
     "end_time": "2023-05-05T17:52:15.312966Z",
     "start_time": "2023-05-05T17:52:15.305157Z"
    }
   },
   "outputs": [],
   "source": []
  },
  {
   "cell_type": "code",
   "execution_count": 245,
   "id": "7bea407a",
   "metadata": {
    "ExecuteTime": {
     "end_time": "2023-05-07T17:39:50.548699Z",
     "start_time": "2023-05-07T17:39:50.528124Z"
    }
   },
   "outputs": [],
   "source": [
    "\n",
    "class learner:\n",
    "    \n",
    "    def __init__(self, model, dls,loss_func, lr,opt_func=optim.SGD):fc.store_attr()\n",
    "    \n",
    "    def one_batch(self):\n",
    "        x,y = to_device(self.b)\n",
    "        self.preds = self.model(x)\n",
    "        self.loss = self.loss_func(self.preds, y)\n",
    "        if self.model.training: \n",
    "            self.loss.backward()\n",
    "            self.opt.step()\n",
    "            self.opt.zero_grad()\n",
    "#         else :\n",
    "#             with torch.no_grad():\n",
    "#                 self.preds = self.model(b[0])\n",
    "            \n",
    "        \n",
    "    \n",
    "    def one_epoch(self, train):\n",
    "        self.model.training = train\n",
    "        dl = self.dls.train if train else self.dls.valid\n",
    "        for self.b in dl:self.one_batch()\n",
    "        \n",
    "    def fit(self, epochs):\n",
    "        self.model = self.model.to(def_device)\n",
    "        self.opt = self.opt_func(self.model.parameters(), self.lr)\n",
    "        for e in range(epochs):\n",
    "            self.one_epoch(True)\n",
    "            with torch.no_grad(): self.one_epoch(False)\n",
    "                \n",
    "            print(f\"epoch {e} loss :{self.loss}\")\n",
    "        \n",
    "    "
   ]
  },
  {
   "cell_type": "code",
   "execution_count": 246,
   "id": "9ea04aaa",
   "metadata": {
    "ExecuteTime": {
     "end_time": "2023-05-07T17:39:50.878984Z",
     "start_time": "2023-05-07T17:39:50.864788Z"
    }
   },
   "outputs": [],
   "source": [
    "m,nh = 28*28,50\n",
    "model = nn.Sequential(nn.Linear(m,nh), nn.ReLU(), nn.Linear(nh,10))"
   ]
  },
  {
   "cell_type": "code",
   "execution_count": 247,
   "id": "46d38a81",
   "metadata": {
    "ExecuteTime": {
     "end_time": "2023-05-07T17:39:57.869271Z",
     "start_time": "2023-05-07T17:39:51.097124Z"
    }
   },
   "outputs": [
    {
     "name": "stdout",
     "output_type": "stream",
     "text": [
      "epoch 0 loss :0.7705832719802856\n",
      "epoch 1 loss :0.6212591528892517\n",
      "epoch 2 loss :0.7252416014671326\n"
     ]
    }
   ],
   "source": [
    "learn = learner(model, dls, F.cross_entropy, lr=0.2)\n",
    "learn.fit(3)"
   ]
  },
  {
   "cell_type": "markdown",
   "id": "8e00cb44",
   "metadata": {},
   "source": [
    "## Flexible Learner"
   ]
  },
  {
   "cell_type": "code",
   "execution_count": null,
   "id": "2047ceff",
   "metadata": {
    "ExecuteTime": {
     "end_time": "2023-05-07T17:39:57.908989Z",
     "start_time": "2023-05-07T17:39:57.908982Z"
    }
   },
   "outputs": [],
   "source": [
    "from functools import "
   ]
  },
  {
   "cell_type": "code",
   "execution_count": null,
   "id": "6a10f965",
   "metadata": {
    "ExecuteTime": {
     "end_time": "2023-05-07T17:39:57.912455Z",
     "start_time": "2023-05-07T17:39:57.912448Z"
    }
   },
   "outputs": [],
   "source": [
    "class ctx_mng():\n",
    "    def __init__(self, name):self.name = name\n",
    "        \n",
    "    def __enter__(self):print(f\"Executing code before {self.name} function\")\n",
    "        \n",
    "    def __exit__(self, *args,**kwargs):\n",
    "        print(f\"Executing code after{self.name} function\")\n",
    "   \n",
    "    \n",
    "\n",
    "    "
   ]
  },
  {
   "cell_type": "code",
   "execution_count": null,
   "id": "79e75c92",
   "metadata": {
    "ExecuteTime": {
     "end_time": "2023-05-07T17:39:57.916312Z",
     "start_time": "2023-05-07T17:39:57.916304Z"
    }
   },
   "outputs": [],
   "source": [
    "with ctx_mng(\"before\") as ctx:\n",
    "    print(\"function\")"
   ]
  },
  {
   "cell_type": "code",
   "execution_count": null,
   "id": "8464a54f",
   "metadata": {
    "ExecuteTime": {
     "end_time": "2023-05-07T17:39:57.921475Z",
     "start_time": "2023-05-07T17:39:57.921468Z"
    }
   },
   "outputs": [],
   "source": [
    "class learner:\n",
    "    \n",
    "    def __init__(self, model, dls,loss_func, lr,cbs ,opt_func=optim.SGD):fc.store_attr()\n",
    "    \n",
    "    def one_batch(self):\n",
    "        x,y = to_device(self.b)\n",
    "        with ctx_mng('batch'):\n",
    "            self.preds = self.model(x)\n",
    "            self.loss = self.loss_func(self.preds, y)\n",
    "            if self.model.training: \n",
    "                self.loss.backward()\n",
    "                self.opt.step()\n",
    "                self.opt.zero_grad()\n",
    "#         else :\n",
    "#             with torch.no_grad():\n",
    "#                 self.preds = self.model(b[0])\n",
    "            \n",
    "        \n",
    "    \n",
    "    def one_epoch(self, train):\n",
    "        self.model.training = train\n",
    "        dl = self.dls.train if train else self.dls.valid\n",
    "        with ctx_mng('epoch'):\n",
    "            for self.b in dl:self.one_batch()\n",
    "        \n",
    "    def fit(self, epochs):\n",
    "        self.model = self.model.to(def_device)\n",
    "        self.opt = self.opt_func(self.model.parameters(), self.lr)\n",
    "        with ctx_mng('fit'):\n",
    "            for e in range(epochs):\n",
    "                self.one_epoch(True)\n",
    "                with torch.no_grad(): self.one_epoch(False)\n",
    "\n",
    "                print(f\"epoch {e} loss :{self.loss}\")"
   ]
  },
  {
   "cell_type": "code",
   "execution_count": null,
   "id": "320015c4",
   "metadata": {
    "ExecuteTime": {
     "end_time": "2023-05-07T17:39:57.925088Z",
     "start_time": "2023-05-07T17:39:57.925082Z"
    }
   },
   "outputs": [],
   "source": [
    "m,nh = 28*28,50\n",
    "model = nn.Sequential(nn.Linear(m,nh), nn.ReLU(), nn.Linear(nh,10))"
   ]
  },
  {
   "cell_type": "code",
   "execution_count": null,
   "id": "a2f23fe0",
   "metadata": {
    "ExecuteTime": {
     "end_time": "2023-05-07T17:39:57.928750Z",
     "start_time": "2023-05-07T17:39:57.928744Z"
    }
   },
   "outputs": [],
   "source": [
    "learn = learner(model, dls, F.cross_entropy, lr=0.2, cbs = [])\n",
    "learn.fit(1)"
   ]
  },
  {
   "cell_type": "markdown",
   "id": "14bfb4a3",
   "metadata": {},
   "source": [
    "## More Flexible learner "
   ]
  },
  {
   "cell_type": "code",
   "execution_count": null,
   "id": "57fc7b41",
   "metadata": {
    "ExecuteTime": {
     "end_time": "2023-05-07T17:39:57.932324Z",
     "start_time": "2023-05-07T17:39:57.932315Z"
    }
   },
   "outputs": [],
   "source": [
    "#| export\n",
    "\n",
    "class CancelFitException:pass\n",
    "class CancelEpochException:pass\n",
    "class CancelBatchException:pass"
   ]
  },
  {
   "cell_type": "code",
   "execution_count": 248,
   "id": "017f38fe",
   "metadata": {
    "ExecuteTime": {
     "end_time": "2023-05-07T17:39:59.015121Z",
     "start_time": "2023-05-07T17:39:59.005479Z"
    }
   },
   "outputs": [
    {
     "data": {
      "text/plain": [
       "'Fit'"
      ]
     },
     "execution_count": 248,
     "metadata": {},
     "output_type": "execute_result"
    }
   ],
   "source": [
    "\"fit\".title()"
   ]
  },
  {
   "cell_type": "code",
   "execution_count": 249,
   "id": "ca5d6eed",
   "metadata": {
    "ExecuteTime": {
     "end_time": "2023-05-07T17:39:59.525145Z",
     "start_time": "2023-05-07T17:39:59.517518Z"
    }
   },
   "outputs": [],
   "source": [
    "#| export\n",
    "class cb_dec:\n",
    "    def __init__(self, name):\n",
    "        fc.store_attr()\n",
    "        \n",
    "    def __call__(self, f):\n",
    "        def _f(o,*args,**kwargs):\n",
    "            try:\n",
    "                o.callback(f\"before_{self.name}\")\n",
    "                f(o,*args, **kwargs)\n",
    "                o.callback(f\"after_{self.name}\")\n",
    "            except: globals()[f\"Cancel{self.name.title()}Exception\"]()\n",
    "        return _f \n",
    "            \n",
    "            "
   ]
  },
  {
   "cell_type": "code",
   "execution_count": 250,
   "id": "59afc0ec",
   "metadata": {
    "ExecuteTime": {
     "end_time": "2023-05-07T17:40:00.711973Z",
     "start_time": "2023-05-07T17:40:00.694529Z"
    }
   },
   "outputs": [],
   "source": [
    "#| export \n",
    "class learner:\n",
    "    \n",
    "    def __init__(self, model, dls,loss_func, lr,cbs=[] ,opt_func=optim.SGD):fc.store_attr()\n",
    "    \n",
    "    @cb_dec(\"batch\")\n",
    "    def one_batch(self):\n",
    "        x,y = to_device(self.b)\n",
    "        \n",
    "        self.preds = self.model(x)\n",
    "        self.loss = self.loss_func(self.preds, y)\n",
    "        if self.model.training: \n",
    "            self.loss.backward()\n",
    "            self.opt.step()\n",
    "            self.opt.zero_grad()\n",
    "#         else :\n",
    "#             with torch.no_grad():\n",
    "#                 self.preds = self.model(b[0])\n",
    "            \n",
    "        \n",
    "    @cb_dec(\"epoch\")\n",
    "    def one_epoch(self, train):\n",
    "        self.model.training = train\n",
    "        dl = self.dls.train if train else self.dls.valid\n",
    "        \n",
    "        for self.b in dl:self.one_batch()\n",
    "    \n",
    "    @cb_dec(\"fit\")\n",
    "    def fit(self, epochs):\n",
    "        self.model = self.model.to(def_device)\n",
    "        self.opt = self.opt_func(self.model.parameters(), self.lr)\n",
    "        \n",
    "        for e in range(epochs):\n",
    "            self.one_epoch(True)\n",
    "            with torch.no_grad(): self.one_epoch(False)\n",
    "\n",
    "            print(f\"epoch {e} loss :{self.loss}\")\n",
    "                \n",
    "    def callback(self, nm): rcb(self.cbs, nm, self)\n",
    "        "
   ]
  },
  {
   "cell_type": "code",
   "execution_count": 251,
   "id": "b77a0dfa",
   "metadata": {
    "ExecuteTime": {
     "end_time": "2023-05-07T17:40:01.376258Z",
     "start_time": "2023-05-07T17:40:01.372636Z"
    }
   },
   "outputs": [],
   "source": [
    "# def rcb(cbs, method_name, learn):\n",
    "#     for cb in sorted(cbs, key= attrgetter(\"order\")):\n",
    "#         try: return getattr(cb, method_name)(learn)\n",
    "#         except Exception as e: print(e)"
   ]
  },
  {
   "cell_type": "code",
   "execution_count": 252,
   "id": "8ce1ff09",
   "metadata": {
    "ExecuteTime": {
     "end_time": "2023-05-07T17:40:02.016703Z",
     "start_time": "2023-05-07T17:40:02.011170Z"
    }
   },
   "outputs": [],
   "source": [
    "m,nh = 28*28,50\n",
    "model = nn.Sequential(nn.Linear(m,nh), nn.ReLU(), nn.Linear(nh,10))"
   ]
  },
  {
   "cell_type": "code",
   "execution_count": 253,
   "id": "5fb5cc24",
   "metadata": {
    "ExecuteTime": {
     "end_time": "2023-05-07T17:40:04.630473Z",
     "start_time": "2023-05-07T17:40:02.399017Z"
    }
   },
   "outputs": [
    {
     "name": "stdout",
     "output_type": "stream",
     "text": [
      "starting fit function\n",
      "epoch 0 loss :0.7497103214263916\n",
      "ending fit function with loss : 0.7497103214263916\n"
     ]
    }
   ],
   "source": [
    "learn = learner(model, dls, F.cross_entropy,lr=0.2,cbs = [testcb()])\n",
    "learn.fit(1)"
   ]
  },
  {
   "cell_type": "markdown",
   "id": "22e325c4",
   "metadata": {},
   "source": [
    "## Trainer Learner"
   ]
  },
  {
   "cell_type": "code",
   "execution_count": null,
   "id": "e071db5e",
   "metadata": {
    "ExecuteTime": {
     "end_time": "2023-05-07T17:40:04.672271Z",
     "start_time": "2023-05-07T17:40:04.672264Z"
    }
   },
   "outputs": [],
   "source": [
    "#|export\n",
    "class TrainLearner(learner):\n",
    "    def predict(self): self.preds = self.model(self.batch[0])\n",
    "    def get_loss(self): self.loss = self.loss_func(self.preds, self.batch[1])\n",
    "    def backward(self): self.loss.backward()\n",
    "    def step(self): self.opt.step()\n",
    "    def zero_grad(self): self.opt.zero_grad()"
   ]
  },
  {
   "cell_type": "code",
   "execution_count": 254,
   "id": "7b081d87",
   "metadata": {
    "ExecuteTime": {
     "end_time": "2023-05-07T17:40:07.988293Z",
     "start_time": "2023-05-07T17:40:05.487296Z"
    }
   },
   "outputs": [
    {
     "name": "stdout",
     "output_type": "stream",
     "text": [
      "starting fit function\n",
      "epoch 0 loss :0.8289142847061157\n",
      "ending fit function with loss : 0.8289142847061157\n"
     ]
    }
   ],
   "source": [
    "m,nh = 28*28,50\n",
    "model = nn.Sequential(nn.Linear(m,nh), nn.ReLU(), nn.Linear(nh,10))\n",
    "\n",
    "learn = TrainLearner(model, dls, F.cross_entropy,lr=0.2,cbs = [testcb()])\n",
    "learn.fit(1)"
   ]
  },
  {
   "cell_type": "markdown",
   "id": "c8c3e613",
   "metadata": {
    "ExecuteTime": {
     "end_time": "2023-05-07T08:03:23.109240Z",
     "start_time": "2023-05-07T08:03:23.096412Z"
    }
   },
   "source": [
    "## Momentum Learner\n"
   ]
  },
  {
   "cell_type": "code",
   "execution_count": null,
   "id": "a583aec7",
   "metadata": {
    "ExecuteTime": {
     "end_time": "2023-05-07T17:40:08.030816Z",
     "start_time": "2023-05-07T17:40:08.030810Z"
    }
   },
   "outputs": [],
   "source": [
    "#| export \n",
    "class momentumLearner(learner):\n",
    "    def __init__(self, model, dls, loss_func, lr=None, cbs=None, opt_func=optim.SGD, mom=0.85):\n",
    "        self.mom = mom\n",
    "        super().__init__(model, dls, loss_func, lr, cbs, opt_func)\n",
    "        \n",
    "    def step(self): self.opt.step()\n",
    "        \n",
    "    def zero_grad(self): \n",
    "        with torch.no_grad():\n",
    "            for p in self.model.parameters(): p.grad *= self.mom"
   ]
  },
  {
   "cell_type": "code",
   "execution_count": 255,
   "id": "a94d7207",
   "metadata": {
    "ExecuteTime": {
     "end_time": "2023-05-07T17:40:11.002249Z",
     "start_time": "2023-05-07T17:40:08.753157Z"
    }
   },
   "outputs": [
    {
     "name": "stdout",
     "output_type": "stream",
     "text": [
      "starting fit function\n",
      "epoch 0 loss :0.7780116200447083\n",
      "ending fit function with loss : 0.7780116200447083\n"
     ]
    }
   ],
   "source": [
    "m,nh = 28*28,50\n",
    "model = nn.Sequential(nn.Linear(m,nh), nn.ReLU(), nn.Linear(nh,10))\n",
    "\n",
    "learn = TrainLearner(model, dls, F.cross_entropy,lr=0.2,cbs = [testcb()])\n",
    "learn.fit(1)"
   ]
  },
  {
   "cell_type": "markdown",
   "id": "7cbc4daf",
   "metadata": {},
   "source": [
    "## Metrics Callback"
   ]
  },
  {
   "cell_type": "code",
   "execution_count": 256,
   "id": "67419ad6",
   "metadata": {
    "ExecuteTime": {
     "end_time": "2023-05-07T17:40:14.951788Z",
     "start_time": "2023-05-07T17:40:14.945641Z"
    }
   },
   "outputs": [],
   "source": [
    "from torcheval.metrics import MulticlassAccuracy"
   ]
  },
  {
   "cell_type": "code",
   "execution_count": 257,
   "id": "8e10c00f",
   "metadata": {
    "ExecuteTime": {
     "end_time": "2023-05-07T17:40:15.308112Z",
     "start_time": "2023-05-07T17:40:15.295793Z"
    }
   },
   "outputs": [],
   "source": [
    "ms = [MulticlassAccuracy()]"
   ]
  },
  {
   "cell_type": "code",
   "execution_count": null,
   "id": "68785e5a",
   "metadata": {},
   "outputs": [],
   "source": []
  },
  {
   "cell_type": "code",
   "execution_count": 258,
   "id": "9128c5fa",
   "metadata": {
    "ExecuteTime": {
     "end_time": "2023-05-07T17:40:16.164323Z",
     "start_time": "2023-05-07T17:40:16.160460Z"
    }
   },
   "outputs": [],
   "source": [
    "metricss={}\n",
    "metricss[type(ms[0]).__name__] = ms[0]"
   ]
  },
  {
   "cell_type": "code",
   "execution_count": 259,
   "id": "3d432790",
   "metadata": {
    "ExecuteTime": {
     "end_time": "2023-05-07T17:40:16.896736Z",
     "start_time": "2023-05-07T17:40:16.890994Z"
    }
   },
   "outputs": [
    {
     "data": {
      "text/plain": [
       "{'MulticlassAccuracy': <torcheval.metrics.classification.accuracy.MulticlassAccuracy at 0x7ff39a795090>}"
      ]
     },
     "execution_count": 259,
     "metadata": {},
     "output_type": "execute_result"
    }
   ],
   "source": [
    "metricss"
   ]
  },
  {
   "cell_type": "markdown",
   "id": "c3c60404",
   "metadata": {
    "ExecuteTime": {
     "end_time": "2023-04-28T10:35:54.512677Z",
     "start_time": "2023-04-28T10:35:54.465615Z"
    }
   },
   "source": [
    "## Export "
   ]
  },
  {
   "cell_type": "code",
   "execution_count": 260,
   "id": "2e648632",
   "metadata": {
    "ExecuteTime": {
     "end_time": "2023-05-07T17:40:18.156108Z",
     "start_time": "2023-05-07T17:40:18.105432Z"
    }
   },
   "outputs": [],
   "source": [
    "#| hide \n",
    "import nbdev; nbdev.nbdev_export()"
   ]
  },
  {
   "cell_type": "code",
   "execution_count": null,
   "id": "83e4dcec",
   "metadata": {},
   "outputs": [],
   "source": []
  }
 ],
 "metadata": {
  "kernelspec": {
   "display_name": "Python 3 (ipykernel)",
   "language": "python",
   "name": "python3"
  },
  "language_info": {
   "codemirror_mode": {
    "name": "ipython",
    "version": 3
   },
   "file_extension": ".py",
   "mimetype": "text/x-python",
   "name": "python",
   "nbconvert_exporter": "python",
   "pygments_lexer": "ipython3",
   "version": "3.10.9"
  },
  "toc": {
   "base_numbering": 1,
   "nav_menu": {},
   "number_sections": true,
   "sideBar": true,
   "skip_h1_title": false,
   "title_cell": "Table of Contents",
   "title_sidebar": "Contents",
   "toc_cell": false,
   "toc_position": {},
   "toc_section_display": true,
   "toc_window_display": false
  },
  "varInspector": {
   "cols": {
    "lenName": 16,
    "lenType": 16,
    "lenVar": 40
   },
   "kernels_config": {
    "python": {
     "delete_cmd_postfix": "",
     "delete_cmd_prefix": "del ",
     "library": "var_list.py",
     "varRefreshCmd": "print(var_dic_list())"
    },
    "r": {
     "delete_cmd_postfix": ") ",
     "delete_cmd_prefix": "rm(",
     "library": "var_list.r",
     "varRefreshCmd": "cat(var_dic_list()) "
    }
   },
   "types_to_exclude": [
    "module",
    "function",
    "builtin_function_or_method",
    "instance",
    "_Feature"
   ],
   "window_display": false
  }
 },
 "nbformat": 4,
 "nbformat_minor": 5
}
