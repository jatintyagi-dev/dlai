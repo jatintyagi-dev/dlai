{
 "cells": [
  {
   "cell_type": "code",
   "execution_count": 1,
   "id": "42bc564e",
   "metadata": {
    "ExecuteTime": {
     "end_time": "2023-04-29T07:08:10.639754Z",
     "start_time": "2023-04-29T07:08:10.626269Z"
    }
   },
   "outputs": [],
   "source": [
    "#| default_exp learner"
   ]
  },
  {
   "cell_type": "markdown",
   "id": "bf2889df",
   "metadata": {},
   "source": [
    "## Imports"
   ]
  },
  {
   "cell_type": "code",
   "execution_count": null,
   "id": "8dd20036",
   "metadata": {},
   "outputs": [],
   "source": []
  },
  {
   "cell_type": "code",
   "execution_count": null,
   "id": "2d59c684",
   "metadata": {},
   "outputs": [],
   "source": []
  },
  {
   "cell_type": "markdown",
   "id": "cccc476a",
   "metadata": {},
   "source": [
    "## Callback "
   ]
  },
  {
   "cell_type": "code",
   "execution_count": null,
   "id": "a85df3b4",
   "metadata": {},
   "outputs": [],
   "source": []
  },
  {
   "cell_type": "code",
   "execution_count": null,
   "id": "4619353d",
   "metadata": {},
   "outputs": [],
   "source": []
  },
  {
   "cell_type": "markdown",
   "id": "f3492769",
   "metadata": {},
   "source": [
    "## Learner Framework Basic"
   ]
  },
  {
   "cell_type": "code",
   "execution_count": 2,
   "id": "82901768",
   "metadata": {
    "ExecuteTime": {
     "end_time": "2023-04-29T07:11:11.437131Z",
     "start_time": "2023-04-29T07:11:11.431810Z"
    }
   },
   "outputs": [],
   "source": [
    "#| export \n",
    "class learner():\n",
    "    ..."
   ]
  },
  {
   "cell_type": "markdown",
   "id": "7c13a419",
   "metadata": {
    "ExecuteTime": {
     "end_time": "2023-04-28T10:35:54.512677Z",
     "start_time": "2023-04-28T10:35:54.465615Z"
    }
   },
   "source": [
    "## Export "
   ]
  },
  {
   "cell_type": "code",
   "execution_count": 3,
   "id": "941f12ff",
   "metadata": {
    "ExecuteTime": {
     "end_time": "2023-04-29T07:12:39.276763Z",
     "start_time": "2023-04-29T07:12:38.726692Z"
    }
   },
   "outputs": [],
   "source": [
    "#| hide \n",
    "import nbdev; nbdev.nbdev_export()"
   ]
  },
  {
   "cell_type": "code",
   "execution_count": null,
   "id": "5ac393c2",
   "metadata": {},
   "outputs": [],
   "source": []
  }
 ],
 "metadata": {
  "kernelspec": {
   "display_name": "Python 3 (ipykernel)",
   "language": "python",
   "name": "python3"
  },
  "language_info": {
   "codemirror_mode": {
    "name": "ipython",
    "version": 3
   },
   "file_extension": ".py",
   "mimetype": "text/x-python",
   "name": "python",
   "nbconvert_exporter": "python",
   "pygments_lexer": "ipython3",
   "version": "3.10.9"
  },
  "toc": {
   "base_numbering": 1,
   "nav_menu": {},
   "number_sections": true,
   "sideBar": true,
   "skip_h1_title": false,
   "title_cell": "Table of Contents",
   "title_sidebar": "Contents",
   "toc_cell": false,
   "toc_position": {},
   "toc_section_display": true,
   "toc_window_display": false
  },
  "varInspector": {
   "cols": {
    "lenName": 16,
    "lenType": 16,
    "lenVar": 40
   },
   "kernels_config": {
    "python": {
     "delete_cmd_postfix": "",
     "delete_cmd_prefix": "del ",
     "library": "var_list.py",
     "varRefreshCmd": "print(var_dic_list())"
    },
    "r": {
     "delete_cmd_postfix": ") ",
     "delete_cmd_prefix": "rm(",
     "library": "var_list.r",
     "varRefreshCmd": "cat(var_dic_list()) "
    }
   },
   "types_to_exclude": [
    "module",
    "function",
    "builtin_function_or_method",
    "instance",
    "_Feature"
   ],
   "window_display": false
  }
 },
 "nbformat": 4,
 "nbformat_minor": 5
}
