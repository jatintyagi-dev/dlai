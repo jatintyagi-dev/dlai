{
 "cells": [
  {
   "cell_type": "code",
   "execution_count": 1,
   "id": "32921eb1",
   "metadata": {
    "ExecuteTime": {
     "end_time": "2023-04-27T17:41:29.027408Z",
     "start_time": "2023-04-27T17:41:29.014523Z"
    }
   },
   "outputs": [],
   "source": [
    "#| default_exp training"
   ]
  },
  {
   "cell_type": "code",
   "execution_count": 39,
   "id": "8e4574a9",
   "metadata": {
    "ExecuteTime": {
     "end_time": "2023-04-28T10:03:27.905412Z",
     "start_time": "2023-04-28T10:03:27.896413Z"
    }
   },
   "outputs": [],
   "source": [
    "#|export\n",
    "import pickle,gzip,math,os,time,shutil,torch,matplotlib as mpl,numpy as np,matplotlib.pyplot as plt\n",
    "from pathlib import Path\n",
    "from torch import tensor,nn\n",
    "import torch.nn.functional as F\n",
    "import fastcore.all as fc"
   ]
  },
  {
   "cell_type": "code",
   "execution_count": 18,
   "id": "5cc4fea7",
   "metadata": {
    "ExecuteTime": {
     "end_time": "2023-04-28T09:49:25.539252Z",
     "start_time": "2023-04-28T09:49:25.526171Z"
    }
   },
   "outputs": [],
   "source": [
    "from functools import partial"
   ]
  },
  {
   "cell_type": "code",
   "execution_count": null,
   "id": "da2609f4",
   "metadata": {},
   "outputs": [],
   "source": []
  },
  {
   "cell_type": "markdown",
   "id": "fb6428a8",
   "metadata": {},
   "source": [
    "# Mini Batch Training "
   ]
  },
  {
   "cell_type": "code",
   "execution_count": 79,
   "id": "5c9f449b",
   "metadata": {
    "ExecuteTime": {
     "end_time": "2023-04-28T13:29:19.607826Z",
     "start_time": "2023-04-28T13:29:18.898910Z"
    }
   },
   "outputs": [],
   "source": [
    "from fastcore.test import test_close\n",
    "\n",
    "torch.set_printoptions(precision=2, linewidth=140, sci_mode=False)\n",
    "torch.manual_seed(1)\n",
    "mpl.rcParams['image.cmap'] = 'gray'\n",
    "\n",
    "path_data = Path('../../course22p2/data')\n",
    "path_gz = path_data/'mnist.pkl.gz'\n",
    "with gzip.open(path_gz, 'rb') as f: ((x_train, y_train), (x_valid, y_valid), _) = pickle.load(f, encoding='latin-1')\n",
    "x_train, y_train, x_valid, y_valid = map(tensor, [x_train, y_train, x_valid, y_valid])"
   ]
  },
  {
   "cell_type": "markdown",
   "id": "9e253df4",
   "metadata": {},
   "source": [
    "## Datasets and DataLoaders"
   ]
  },
  {
   "cell_type": "code",
   "execution_count": null,
   "id": "0fcbca00",
   "metadata": {
    "ExecuteTime": {
     "end_time": "2023-04-28T13:29:19.639197Z",
     "start_time": "2023-04-28T13:29:19.639189Z"
    }
   },
   "outputs": [],
   "source": [
    "\n",
    "\n",
    "def dl(x_train, bs = 64):\n",
    "    for i in range(0,len(x_train),bs):\n",
    "        yield x_train[i:i+bs]"
   ]
  },
  {
   "cell_type": "code",
   "execution_count": 80,
   "id": "ce2c2807",
   "metadata": {
    "ExecuteTime": {
     "end_time": "2023-04-28T13:29:19.956515Z",
     "start_time": "2023-04-28T13:29:19.949745Z"
    }
   },
   "outputs": [],
   "source": [
    "f = partial(dl, x_train)"
   ]
  },
  {
   "cell_type": "code",
   "execution_count": 81,
   "id": "22f7ddcc",
   "metadata": {
    "ExecuteTime": {
     "end_time": "2023-04-28T13:29:20.264911Z",
     "start_time": "2023-04-28T13:29:20.251489Z"
    }
   },
   "outputs": [
    {
     "data": {
      "text/plain": [
       "tensor([[0., 0., 0.,  ..., 0., 0., 0.],\n",
       "        [0., 0., 0.,  ..., 0., 0., 0.],\n",
       "        [0., 0., 0.,  ..., 0., 0., 0.],\n",
       "        ...,\n",
       "        [0., 0., 0.,  ..., 0., 0., 0.],\n",
       "        [0., 0., 0.,  ..., 0., 0., 0.],\n",
       "        [0., 0., 0.,  ..., 0., 0., 0.]])"
      ]
     },
     "execution_count": 81,
     "metadata": {},
     "output_type": "execute_result"
    }
   ],
   "source": [
    "next(f())"
   ]
  },
  {
   "cell_type": "code",
   "execution_count": 266,
   "id": "cb46df57",
   "metadata": {
    "ExecuteTime": {
     "end_time": "2023-04-28T16:59:14.762593Z",
     "start_time": "2023-04-28T16:59:14.752336Z"
    }
   },
   "outputs": [],
   "source": [
    "#| export \n",
    "class dataset():\n",
    "    def __init__(self, x, y):fc.store_attr()\n",
    "        \n",
    "    def __getitem__(self,i):\n",
    "        return self.x[i],self.y[i]\n",
    "    def __len__(self):\n",
    "        return len(self.x)"
   ]
  },
  {
   "cell_type": "code",
   "execution_count": 267,
   "id": "25d50b9b",
   "metadata": {
    "ExecuteTime": {
     "end_time": "2023-04-28T16:59:16.000030Z",
     "start_time": "2023-04-28T16:59:15.995080Z"
    }
   },
   "outputs": [],
   "source": [
    "train_ds = dataset(x_train, y_train)\n",
    "valid_ds = dataset(x_valid, y_valid)"
   ]
  },
  {
   "cell_type": "code",
   "execution_count": null,
   "id": "a3dc3f9e",
   "metadata": {
    "ExecuteTime": {
     "end_time": "2023-04-28T16:57:14.154118Z",
     "start_time": "2023-04-28T16:57:14.140107Z"
    }
   },
   "outputs": [],
   "source": []
  },
  {
   "cell_type": "code",
   "execution_count": 284,
   "id": "1d58ac16",
   "metadata": {
    "ExecuteTime": {
     "end_time": "2023-04-28T17:02:12.670339Z",
     "start_time": "2023-04-28T17:02:12.662673Z"
    }
   },
   "outputs": [],
   "source": [
    "#| export\n",
    "class DL:\n",
    "    def __init__(self, ds, bs):fc.store_attr()\n",
    "        \n",
    "#     def __call__(self):\n",
    "#         for i in range(0,len(self.x),self.bs):\n",
    "#             yield self.x[i:i+bs], self.y[i:i+bs]\n",
    "    def __iter__(self):\n",
    "        for i in range(0,len(self.ds),self.bs):\n",
    "            yield self.ds[i:i+self.bs]\n",
    "    \n",
    "#     def __repr__(self):\n",
    "#         return f\"shape of x{self.ds[0].shape} \\n, shape of y{self.ds[1].shape} {self.bs} \"\n",
    "        \n",
    "        \n",
    "        "
   ]
  },
  {
   "cell_type": "code",
   "execution_count": 340,
   "id": "8da9d298",
   "metadata": {
    "ExecuteTime": {
     "end_time": "2023-04-28T17:24:49.230895Z",
     "start_time": "2023-04-28T17:24:49.220916Z"
    }
   },
   "outputs": [],
   "source": [
    "train_dl = DL(train_ds, bs = 64)"
   ]
  },
  {
   "cell_type": "code",
   "execution_count": 341,
   "id": "356db10f",
   "metadata": {
    "ExecuteTime": {
     "end_time": "2023-04-28T17:24:50.007238Z",
     "start_time": "2023-04-28T17:24:50.002514Z"
    }
   },
   "outputs": [],
   "source": [
    "valid_dl = DL(valid_ds, bs = 512)"
   ]
  },
  {
   "cell_type": "code",
   "execution_count": 342,
   "id": "38733800",
   "metadata": {
    "ExecuteTime": {
     "end_time": "2023-04-28T17:24:50.950342Z",
     "start_time": "2023-04-28T17:24:50.944335Z"
    }
   },
   "outputs": [
    {
     "data": {
      "text/plain": [
       "<__main__.DL at 0x7fda7a036140>"
      ]
     },
     "execution_count": 342,
     "metadata": {},
     "output_type": "execute_result"
    }
   ],
   "source": [
    "train_dl"
   ]
  },
  {
   "cell_type": "code",
   "execution_count": 343,
   "id": "4a2d2ba7",
   "metadata": {
    "ExecuteTime": {
     "end_time": "2023-04-28T17:24:51.582138Z",
     "start_time": "2023-04-28T17:24:51.577188Z"
    }
   },
   "outputs": [
    {
     "name": "stdout",
     "output_type": "stream",
     "text": [
      "torch.Size([64, 784]) torch.Size([64])\n"
     ]
    }
   ],
   "source": [
    "for xb, yb in train_dl:\n",
    "    print(xb.shape, yb.shape)\n",
    "    break"
   ]
  },
  {
   "cell_type": "markdown",
   "id": "fd62e503",
   "metadata": {},
   "source": [
    "## Loss Function "
   ]
  },
  {
   "cell_type": "code",
   "execution_count": 288,
   "id": "90e95e07",
   "metadata": {
    "ExecuteTime": {
     "end_time": "2023-04-28T17:02:23.562004Z",
     "start_time": "2023-04-28T17:02:23.557885Z"
    }
   },
   "outputs": [],
   "source": [
    "#| export \n",
    "loss_func = F.cross_entropy"
   ]
  },
  {
   "cell_type": "code",
   "execution_count": 289,
   "id": "3e49a622",
   "metadata": {
    "ExecuteTime": {
     "end_time": "2023-04-28T17:02:26.990707Z",
     "start_time": "2023-04-28T17:02:26.978477Z"
    }
   },
   "outputs": [
    {
     "data": {
      "text/plain": [
       "torch.Size([64])"
      ]
     },
     "execution_count": 289,
     "metadata": {},
     "output_type": "execute_result"
    }
   ],
   "source": [
    "preds.argmax(1).shape"
   ]
  },
  {
   "cell_type": "code",
   "execution_count": 290,
   "id": "23ae8af9",
   "metadata": {
    "ExecuteTime": {
     "end_time": "2023-04-28T17:02:27.326981Z",
     "start_time": "2023-04-28T17:02:27.319386Z"
    }
   },
   "outputs": [
    {
     "data": {
      "text/plain": [
       "torch.Size([64, 10])"
      ]
     },
     "execution_count": 290,
     "metadata": {},
     "output_type": "execute_result"
    }
   ],
   "source": [
    "preds.shape"
   ]
  },
  {
   "cell_type": "code",
   "execution_count": 291,
   "id": "b1eeb609",
   "metadata": {
    "ExecuteTime": {
     "end_time": "2023-04-28T17:02:27.784731Z",
     "start_time": "2023-04-28T17:02:27.697732Z"
    }
   },
   "outputs": [
    {
     "ename": "RuntimeError",
     "evalue": "The size of tensor a (64) must match the size of tensor b (512) at non-singleton dimension 0",
     "output_type": "error",
     "traceback": [
      "\u001b[0;31m---------------------------------------------------------------------------\u001b[0m",
      "\u001b[0;31mRuntimeError\u001b[0m                              Traceback (most recent call last)",
      "\u001b[0;32m/var/folders/sq/yssdm5c558z844hmvklgtkdw0000gn/T/ipykernel_60746/611953499.py\u001b[0m in \u001b[0;36m<module>\u001b[0;34m\u001b[0m\n\u001b[0;32m----> 1\u001b[0;31m \u001b[0;34m(\u001b[0m\u001b[0mpreds\u001b[0m\u001b[0;34m.\u001b[0m\u001b[0margmax\u001b[0m\u001b[0;34m(\u001b[0m\u001b[0;36m1\u001b[0m\u001b[0;34m)\u001b[0m \u001b[0;34m==\u001b[0m \u001b[0myb\u001b[0m\u001b[0;34m)\u001b[0m\u001b[0;34m.\u001b[0m\u001b[0mfloat\u001b[0m\u001b[0;34m(\u001b[0m\u001b[0;34m)\u001b[0m\u001b[0;34m.\u001b[0m\u001b[0mmean\u001b[0m\u001b[0;34m(\u001b[0m\u001b[0;34m)\u001b[0m\u001b[0;34m\u001b[0m\u001b[0;34m\u001b[0m\u001b[0m\n\u001b[0m",
      "\u001b[0;31mRuntimeError\u001b[0m: The size of tensor a (64) must match the size of tensor b (512) at non-singleton dimension 0"
     ]
    }
   ],
   "source": [
    "(preds.argmax(1) == yb).float().mean()"
   ]
  },
  {
   "cell_type": "code",
   "execution_count": 322,
   "id": "facf614e",
   "metadata": {
    "ExecuteTime": {
     "end_time": "2023-04-28T17:15:44.332567Z",
     "start_time": "2023-04-28T17:15:44.321694Z"
    }
   },
   "outputs": [],
   "source": [
    "#|\n",
    "def accuracy(preds, yb): return (preds.argmax(dim=1) == yb).float().mean()"
   ]
  },
  {
   "cell_type": "code",
   "execution_count": 358,
   "id": "faa35214",
   "metadata": {
    "ExecuteTime": {
     "end_time": "2023-04-28T17:26:59.249506Z",
     "start_time": "2023-04-28T17:26:59.239055Z"
    }
   },
   "outputs": [],
   "source": [
    "#|export\n",
    "def report(loss, preds, yb,train=\"training\"): print(f' {train} Loss: {loss:.2f}, Accuracy: {accuracy(preds, yb):.2f}')"
   ]
  },
  {
   "cell_type": "markdown",
   "id": "4a43c5f7",
   "metadata": {},
   "source": [
    "## Model "
   ]
  },
  {
   "cell_type": "code",
   "execution_count": 361,
   "id": "bc9ef6a5",
   "metadata": {
    "ExecuteTime": {
     "end_time": "2023-04-28T17:27:17.946617Z",
     "start_time": "2023-04-28T17:27:17.938147Z"
    }
   },
   "outputs": [],
   "source": [
    "# Model\n",
    "model = nn.Sequential(nn.Linear(784,50), nn.ReLU(),nn.Linear(50,10))"
   ]
  },
  {
   "cell_type": "code",
   "execution_count": 362,
   "id": "9e20c49b",
   "metadata": {
    "ExecuteTime": {
     "end_time": "2023-04-28T17:27:18.662910Z",
     "start_time": "2023-04-28T17:27:18.655547Z"
    }
   },
   "outputs": [
    {
     "data": {
      "text/plain": [
       "tensor([9, 3, 7, 0, 9, 0, 8, 5, 5, 2, 4, 5, 0, 8, 4, 8])"
      ]
     },
     "execution_count": 362,
     "metadata": {},
     "output_type": "execute_result"
    }
   ],
   "source": [
    "yb"
   ]
  },
  {
   "cell_type": "markdown",
   "id": "7754c64c",
   "metadata": {},
   "source": [
    "## Training Loop"
   ]
  },
  {
   "cell_type": "code",
   "execution_count": 363,
   "id": "70ef50d5",
   "metadata": {
    "ExecuteTime": {
     "end_time": "2023-04-28T17:27:21.669114Z",
     "start_time": "2023-04-28T17:27:19.396668Z"
    }
   },
   "outputs": [],
   "source": [
    "# Training loop\n",
    "epochs = 3\n",
    "lr = 0.1\n",
    "\n",
    "\n",
    "for epoch in range(epochs):\n",
    "    for xb, yb in train_dl:\n",
    "        preds = model(xb)\n",
    "#         print(preds.squeeze(dim=1).shape)\n",
    "#         print(yb.shape)\n",
    "        loss = loss_func(preds.squeeze(dim=1), yb)\n",
    "        loss.backward()\n",
    "        \n",
    "        with torch.no_grad():\n",
    "            for params in model.parameters():\n",
    "                params -= lr * params.grad\n",
    "                \n",
    "            model.zero_grad()\n",
    "                \n",
    "        \n",
    "        \n",
    "        \n"
   ]
  },
  {
   "cell_type": "code",
   "execution_count": null,
   "id": "9800941e",
   "metadata": {
    "ExecuteTime": {
     "end_time": "2023-04-28T17:27:21.693047Z",
     "start_time": "2023-04-28T17:27:21.693039Z"
    }
   },
   "outputs": [],
   "source": [
    "loss"
   ]
  },
  {
   "cell_type": "code",
   "execution_count": null,
   "id": "f48cf902",
   "metadata": {
    "ExecuteTime": {
     "end_time": "2023-04-28T17:27:21.695412Z",
     "start_time": "2023-04-28T17:27:21.695400Z"
    }
   },
   "outputs": [],
   "source": [
    "loss"
   ]
  },
  {
   "cell_type": "code",
   "execution_count": null,
   "id": "77fb167e",
   "metadata": {
    "ExecuteTime": {
     "end_time": "2023-04-28T17:27:21.698332Z",
     "start_time": "2023-04-28T17:27:21.698324Z"
    }
   },
   "outputs": [],
   "source": [
    "loss"
   ]
  },
  {
   "cell_type": "markdown",
   "id": "8bc603e9",
   "metadata": {},
   "source": [
    "## Optimiser"
   ]
  },
  {
   "cell_type": "code",
   "execution_count": null,
   "id": "9e4e5e1d",
   "metadata": {
    "ExecuteTime": {
     "end_time": "2023-04-28T17:27:21.700721Z",
     "start_time": "2023-04-28T17:27:21.700713Z"
    }
   },
   "outputs": [],
   "source": [
    "# list(model.parameters())[0].grad.data.zero_()"
   ]
  },
  {
   "cell_type": "code",
   "execution_count": null,
   "id": "4b95d702",
   "metadata": {
    "ExecuteTime": {
     "end_time": "2023-04-28T14:31:41.153261Z",
     "start_time": "2023-04-28T14:31:41.148532Z"
    }
   },
   "outputs": [],
   "source": []
  },
  {
   "cell_type": "code",
   "execution_count": null,
   "id": "11c7239b",
   "metadata": {
    "ExecuteTime": {
     "end_time": "2023-04-28T17:27:21.702823Z",
     "start_time": "2023-04-28T17:27:21.702815Z"
    }
   },
   "outputs": [],
   "source": [
    "\n",
    "model.eval()"
   ]
  },
  {
   "cell_type": "code",
   "execution_count": 368,
   "id": "f92da20e",
   "metadata": {
    "ExecuteTime": {
     "end_time": "2023-04-28T17:29:48.521745Z",
     "start_time": "2023-04-28T17:29:48.501816Z"
    }
   },
   "outputs": [],
   "source": [
    "#| export\n",
    "class opt():\n",
    "    def __init__(self, params , lr=0.5):self.params,self.lr=list(params),lr\n",
    "    \n",
    "    def zero_grad(self):\n",
    "        for p in self.params: p.grad.data.zero_() \n",
    "        \n",
    "        \n",
    "    \n",
    "    def step(self):\n",
    "        with torch.no_grad():\n",
    "            for p in self.params:\n",
    "                p -= self.lr * p.grad\n",
    "    "
   ]
  },
  {
   "cell_type": "code",
   "execution_count": 369,
   "id": "c24f1d6c",
   "metadata": {
    "ExecuteTime": {
     "end_time": "2023-04-28T17:29:49.766034Z",
     "start_time": "2023-04-28T17:29:49.762807Z"
    }
   },
   "outputs": [],
   "source": [
    "# class Optimizer():\n",
    "#     def __init__(self, params, lr=0.5): self.params,self.lr=list(params),lr\n",
    "\n",
    "#     def step(self):\n",
    "#         with torch.no_grad():\n",
    "#             for p in self.params: p -= p.grad * self.lr\n",
    "\n",
    "#     def zero_grad(self):\n",
    "#         for p in self.params: p.grad.data.zero_()"
   ]
  },
  {
   "cell_type": "code",
   "execution_count": 370,
   "id": "7d3197e6",
   "metadata": {
    "ExecuteTime": {
     "end_time": "2023-04-28T17:29:50.108990Z",
     "start_time": "2023-04-28T17:29:50.097704Z"
    }
   },
   "outputs": [],
   "source": [
    "#| export\n",
    "def fit(model, epochs=3, lr = 0.2):\n",
    "    \n",
    "    o = opt(model.parameters())\n",
    "#     o= Optimizer(model.parameters())\n",
    "    for epoch in range(epochs):\n",
    "        model.train()\n",
    "        for xb, yb in train_dl:\n",
    "            preds = model(xb)\n",
    "    #         print(preds.squeeze(dim=1).shape)\n",
    "    #         print(yb.shape)\n",
    "            loss = loss_func(preds, yb)\n",
    "            \n",
    "            loss.backward()\n",
    "            o.step()\n",
    "            o.zero_grad()\n",
    "    \n",
    "        report(loss, preds, yb, \"training \")\n",
    "    \n",
    "        model.eval()    \n",
    "        with torch.no_grad():\n",
    "            for xb, yb in valid_dl:\n",
    "                preds = model(xb)\n",
    "                loss = loss_func(preds, yb)\n",
    "                \n",
    "#         print(preds.shape)\n",
    "        report(loss, preds, yb, \"validation \")\n",
    "            \n",
    "        "
   ]
  },
  {
   "cell_type": "code",
   "execution_count": null,
   "id": "7d7793ae",
   "metadata": {
    "ExecuteTime": {
     "end_time": "2023-04-28T17:22:32.297097Z",
     "start_time": "2023-04-28T17:22:30.806156Z"
    }
   },
   "outputs": [],
   "source": []
  },
  {
   "cell_type": "code",
   "execution_count": 371,
   "id": "43427e9f",
   "metadata": {
    "ExecuteTime": {
     "end_time": "2023-04-28T17:29:53.779234Z",
     "start_time": "2023-04-28T17:29:51.749148Z"
    }
   },
   "outputs": [
    {
     "name": "stdout",
     "output_type": "stream",
     "text": [
      " training  Loss: 0.02, Accuracy: 1.00\n",
      " validation  Loss: 0.18, Accuracy: 0.97\n",
      " training  Loss: 0.01, Accuracy: 1.00\n",
      " validation  Loss: 0.18, Accuracy: 0.97\n",
      " training  Loss: 0.01, Accuracy: 1.00\n",
      " validation  Loss: 0.20, Accuracy: 0.97\n"
     ]
    }
   ],
   "source": [
    "fit(model)"
   ]
  },
  {
   "cell_type": "code",
   "execution_count": null,
   "id": "7ef5ca8f",
   "metadata": {
    "ExecuteTime": {
     "end_time": "2023-04-28T17:16:47.158200Z",
     "start_time": "2023-04-28T17:16:47.109873Z"
    }
   },
   "outputs": [],
   "source": []
  },
  {
   "cell_type": "code",
   "execution_count": null,
   "id": "b478d979",
   "metadata": {
    "ExecuteTime": {
     "end_time": "2023-04-28T17:15:32.054622Z",
     "start_time": "2023-04-28T17:15:32.045218Z"
    }
   },
   "outputs": [],
   "source": []
  },
  {
   "cell_type": "code",
   "execution_count": null,
   "id": "13e24782",
   "metadata": {
    "ExecuteTime": {
     "end_time": "2023-04-28T17:29:53.793490Z",
     "start_time": "2023-04-28T17:29:53.793483Z"
    }
   },
   "outputs": [],
   "source": [
    "loss_func()"
   ]
  },
  {
   "cell_type": "code",
   "execution_count": 372,
   "id": "334b1f38",
   "metadata": {
    "ExecuteTime": {
     "end_time": "2023-04-28T17:29:53.927017Z",
     "start_time": "2023-04-28T17:29:53.922126Z"
    }
   },
   "outputs": [
    {
     "data": {
      "text/plain": [
       "(torch.Size([16, 10]), torch.Size([16]))"
      ]
     },
     "execution_count": 372,
     "metadata": {},
     "output_type": "execute_result"
    }
   ],
   "source": [
    "preds.squeeze(dim=1).shape, yb.shape"
   ]
  },
  {
   "cell_type": "code",
   "execution_count": 373,
   "id": "4d3172ca",
   "metadata": {
    "ExecuteTime": {
     "end_time": "2023-04-28T17:29:54.383564Z",
     "start_time": "2023-04-28T17:29:54.342094Z"
    }
   },
   "outputs": [
    {
     "data": {
      "text/plain": [
       "tensor(0.14, grad_fn=<NllLossBackward0>)"
      ]
     },
     "execution_count": 373,
     "metadata": {},
     "output_type": "execute_result"
    }
   ],
   "source": [
    "loss"
   ]
  },
  {
   "cell_type": "code",
   "execution_count": 374,
   "id": "3fbe046f",
   "metadata": {
    "ExecuteTime": {
     "end_time": "2023-04-28T17:29:54.730689Z",
     "start_time": "2023-04-28T17:29:54.724393Z"
    }
   },
   "outputs": [],
   "source": [
    "#|export\n",
    "from torch.utils.data import DataLoader, SequentialSampler, RandomSampler, BatchSampler"
   ]
  },
  {
   "cell_type": "code",
   "execution_count": null,
   "id": "e48e8cde",
   "metadata": {},
   "outputs": [],
   "source": []
  },
  {
   "cell_type": "markdown",
   "id": "c61d2e03",
   "metadata": {
    "ExecuteTime": {
     "end_time": "2023-04-28T10:35:54.512677Z",
     "start_time": "2023-04-28T10:35:54.465615Z"
    }
   },
   "source": [
    "# Export "
   ]
  },
  {
   "cell_type": "code",
   "execution_count": 375,
   "id": "064ef6d5",
   "metadata": {
    "ExecuteTime": {
     "end_time": "2023-04-28T17:29:56.845262Z",
     "start_time": "2023-04-28T17:29:56.789904Z"
    }
   },
   "outputs": [],
   "source": [
    "import nbdev; nbdev.nbdev_export()"
   ]
  },
  {
   "cell_type": "code",
   "execution_count": null,
   "id": "10a0b592",
   "metadata": {},
   "outputs": [],
   "source": []
  }
 ],
 "metadata": {
  "kernelspec": {
   "display_name": "Python 3 (ipykernel)",
   "language": "python",
   "name": "python3"
  },
  "language_info": {
   "codemirror_mode": {
    "name": "ipython",
    "version": 3
   },
   "file_extension": ".py",
   "mimetype": "text/x-python",
   "name": "python",
   "nbconvert_exporter": "python",
   "pygments_lexer": "ipython3",
   "version": "3.10.9"
  },
  "toc": {
   "base_numbering": 1,
   "nav_menu": {},
   "number_sections": true,
   "sideBar": true,
   "skip_h1_title": false,
   "title_cell": "Table of Contents",
   "title_sidebar": "Contents",
   "toc_cell": false,
   "toc_position": {},
   "toc_section_display": true,
   "toc_window_display": false
  },
  "varInspector": {
   "cols": {
    "lenName": 16,
    "lenType": 16,
    "lenVar": 40
   },
   "kernels_config": {
    "python": {
     "delete_cmd_postfix": "",
     "delete_cmd_prefix": "del ",
     "library": "var_list.py",
     "varRefreshCmd": "print(var_dic_list())"
    },
    "r": {
     "delete_cmd_postfix": ") ",
     "delete_cmd_prefix": "rm(",
     "library": "var_list.r",
     "varRefreshCmd": "cat(var_dic_list()) "
    }
   },
   "types_to_exclude": [
    "module",
    "function",
    "builtin_function_or_method",
    "instance",
    "_Feature"
   ],
   "window_display": false
  }
 },
 "nbformat": 4,
 "nbformat_minor": 5
}
